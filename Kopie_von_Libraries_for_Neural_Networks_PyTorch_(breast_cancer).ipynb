{
  "nbformat": 4,
  "nbformat_minor": 0,
  "metadata": {
    "colab": {
      "name": "Kopie von Libraries for Neural Networks - PyTorch (breast cancer).ipynb",
      "provenance": [],
      "collapsed_sections": [
        "QGDLesyDQpIb"
      ]
    },
    "kernelspec": {
      "name": "python3",
      "display_name": "Python 3"
    },
    "accelerator": "GPU"
  },
  "cells": [
    {
      "cell_type": "markdown",
      "metadata": {
        "id": "rD_RSER5Lkb5"
      },
      "source": [
        "# Libraries for Neural Networks - PyTorch\n",
        "\n"
      ]
    },
    {
      "cell_type": "code",
      "source": [
        "!pip install torch==1.5.0+cu101 torchvision==0.6.0+cu101 -f https://download.pytorch.org/whl/torch_stable.html"
      ],
      "metadata": {
        "id": "BefKIa-GevKD",
        "colab": {
          "base_uri": "https://localhost:8080/"
        },
        "outputId": "a630577b-fa9b-4138-d3b1-7bbf3c1eebcf"
      },
      "execution_count": 5,
      "outputs": [
        {
          "output_type": "stream",
          "name": "stdout",
          "text": [
            "Looking in indexes: https://pypi.org/simple, https://us-python.pkg.dev/colab-wheels/public/simple/\n",
            "Looking in links: https://download.pytorch.org/whl/torch_stable.html\n",
            "Collecting torch==1.5.0+cu101\n",
            "  Downloading https://download.pytorch.org/whl/cu101/torch-1.5.0%2Bcu101-cp37-cp37m-linux_x86_64.whl (703.8 MB)\n",
            "\u001b[K     |████████████████████████████████| 703.8 MB 20 kB/s \n",
            "\u001b[?25hCollecting torchvision==0.6.0+cu101\n",
            "  Downloading https://download.pytorch.org/whl/cu101/torchvision-0.6.0%2Bcu101-cp37-cp37m-linux_x86_64.whl (6.6 MB)\n",
            "\u001b[K     |████████████████████████████████| 6.6 MB 44.7 MB/s \n",
            "\u001b[?25hRequirement already satisfied: numpy in /usr/local/lib/python3.7/dist-packages (from torch==1.5.0+cu101) (1.21.6)\n",
            "Requirement already satisfied: future in /usr/local/lib/python3.7/dist-packages (from torch==1.5.0+cu101) (0.16.0)\n",
            "Requirement already satisfied: pillow>=4.1.1 in /usr/local/lib/python3.7/dist-packages (from torchvision==0.6.0+cu101) (7.1.2)\n",
            "Installing collected packages: torch, torchvision\n",
            "  Attempting uninstall: torch\n",
            "    Found existing installation: torch 1.11.0+cu113\n",
            "    Uninstalling torch-1.11.0+cu113:\n",
            "      Successfully uninstalled torch-1.11.0+cu113\n",
            "  Attempting uninstall: torchvision\n",
            "    Found existing installation: torchvision 0.12.0+cu113\n",
            "    Uninstalling torchvision-0.12.0+cu113:\n",
            "      Successfully uninstalled torchvision-0.12.0+cu113\n",
            "\u001b[31mERROR: pip's dependency resolver does not currently take into account all the packages that are installed. This behaviour is the source of the following dependency conflicts.\n",
            "torchtext 0.12.0 requires torch==1.11.0, but you have torch 1.5.0+cu101 which is incompatible.\n",
            "torchaudio 0.11.0+cu113 requires torch==1.11.0, but you have torch 1.5.0+cu101 which is incompatible.\u001b[0m\n",
            "Successfully installed torch-1.5.0+cu101 torchvision-0.6.0+cu101\n"
          ]
        }
      ]
    },
    {
      "cell_type": "markdown",
      "metadata": {
        "id": "5tP2BcEILoLB"
      },
      "source": [
        "## Loading the dataset"
      ]
    },
    {
      "cell_type": "code",
      "metadata": {
        "id": "cMkBJMTgde8Q",
        "colab": {
          "base_uri": "https://localhost:8080/",
          "height": 36
        },
        "outputId": "68990682-0209-43cd-ec16-75d23b7db6f3"
      },
      "source": [
        "import torch\n",
        "torch.__version__"
      ],
      "execution_count": 6,
      "outputs": [
        {
          "output_type": "execute_result",
          "data": {
            "text/plain": [
              "'1.5.0+cu101'"
            ],
            "application/vnd.google.colaboratory.intrinsic+json": {
              "type": "string"
            }
          },
          "metadata": {},
          "execution_count": 6
        }
      ]
    },
    {
      "cell_type": "code",
      "metadata": {
        "id": "AoOTnVFidwII"
      },
      "source": [
        "from sklearn.model_selection import train_test_split\n",
        "from sklearn import datasets\n",
        "import numpy as np\n",
        "from sklearn.metrics import accuracy_score, confusion_matrix\n",
        "import torch.nn as nn"
      ],
      "execution_count": 7,
      "outputs": []
    },
    {
      "cell_type": "code",
      "metadata": {
        "id": "7iDc-CB-eGsY"
      },
      "source": [
        "breast = datasets.load_breast_cancer()"
      ],
      "execution_count": 8,
      "outputs": []
    },
    {
      "cell_type": "code",
      "metadata": {
        "id": "_DIAZpMdeOL-",
        "colab": {
          "base_uri": "https://localhost:8080/"
        },
        "outputId": "b35c2661-1e88-4255-9c75-6f2e4b547913"
      },
      "source": [
        "breast.data"
      ],
      "execution_count": 9,
      "outputs": [
        {
          "output_type": "execute_result",
          "data": {
            "text/plain": [
              "array([[1.799e+01, 1.038e+01, 1.228e+02, ..., 2.654e-01, 4.601e-01,\n",
              "        1.189e-01],\n",
              "       [2.057e+01, 1.777e+01, 1.329e+02, ..., 1.860e-01, 2.750e-01,\n",
              "        8.902e-02],\n",
              "       [1.969e+01, 2.125e+01, 1.300e+02, ..., 2.430e-01, 3.613e-01,\n",
              "        8.758e-02],\n",
              "       ...,\n",
              "       [1.660e+01, 2.808e+01, 1.083e+02, ..., 1.418e-01, 2.218e-01,\n",
              "        7.820e-02],\n",
              "       [2.060e+01, 2.933e+01, 1.401e+02, ..., 2.650e-01, 4.087e-01,\n",
              "        1.240e-01],\n",
              "       [7.760e+00, 2.454e+01, 4.792e+01, ..., 0.000e+00, 2.871e-01,\n",
              "        7.039e-02]])"
            ]
          },
          "metadata": {},
          "execution_count": 9
        }
      ]
    },
    {
      "cell_type": "code",
      "metadata": {
        "id": "Paiw-uSgeUsF",
        "colab": {
          "base_uri": "https://localhost:8080/"
        },
        "outputId": "8aa8a893-2102-432b-c97a-146269950d5f"
      },
      "source": [
        "breast.feature_names"
      ],
      "execution_count": 10,
      "outputs": [
        {
          "output_type": "execute_result",
          "data": {
            "text/plain": [
              "array(['mean radius', 'mean texture', 'mean perimeter', 'mean area',\n",
              "       'mean smoothness', 'mean compactness', 'mean concavity',\n",
              "       'mean concave points', 'mean symmetry', 'mean fractal dimension',\n",
              "       'radius error', 'texture error', 'perimeter error', 'area error',\n",
              "       'smoothness error', 'compactness error', 'concavity error',\n",
              "       'concave points error', 'symmetry error',\n",
              "       'fractal dimension error', 'worst radius', 'worst texture',\n",
              "       'worst perimeter', 'worst area', 'worst smoothness',\n",
              "       'worst compactness', 'worst concavity', 'worst concave points',\n",
              "       'worst symmetry', 'worst fractal dimension'], dtype='<U23')"
            ]
          },
          "metadata": {},
          "execution_count": 10
        }
      ]
    },
    {
      "cell_type": "code",
      "metadata": {
        "id": "XU7L1plAelpi",
        "colab": {
          "base_uri": "https://localhost:8080/"
        },
        "outputId": "5652b269-cb42-450d-fcf5-d201e613c5d1"
      },
      "source": [
        "breast.target"
      ],
      "execution_count": 11,
      "outputs": [
        {
          "output_type": "execute_result",
          "data": {
            "text/plain": [
              "array([0, 0, 0, 0, 0, 0, 0, 0, 0, 0, 0, 0, 0, 0, 0, 0, 0, 0, 0, 1, 1, 1,\n",
              "       0, 0, 0, 0, 0, 0, 0, 0, 0, 0, 0, 0, 0, 0, 0, 1, 0, 0, 0, 0, 0, 0,\n",
              "       0, 0, 1, 0, 1, 1, 1, 1, 1, 0, 0, 1, 0, 0, 1, 1, 1, 1, 0, 1, 0, 0,\n",
              "       1, 1, 1, 1, 0, 1, 0, 0, 1, 0, 1, 0, 0, 1, 1, 1, 0, 0, 1, 0, 0, 0,\n",
              "       1, 1, 1, 0, 1, 1, 0, 0, 1, 1, 1, 0, 0, 1, 1, 1, 1, 0, 1, 1, 0, 1,\n",
              "       1, 1, 1, 1, 1, 1, 1, 0, 0, 0, 1, 0, 0, 1, 1, 1, 0, 0, 1, 0, 1, 0,\n",
              "       0, 1, 0, 0, 1, 1, 0, 1, 1, 0, 1, 1, 1, 1, 0, 1, 1, 1, 1, 1, 1, 1,\n",
              "       1, 1, 0, 1, 1, 1, 1, 0, 0, 1, 0, 1, 1, 0, 0, 1, 1, 0, 0, 1, 1, 1,\n",
              "       1, 0, 1, 1, 0, 0, 0, 1, 0, 1, 0, 1, 1, 1, 0, 1, 1, 0, 0, 1, 0, 0,\n",
              "       0, 0, 1, 0, 0, 0, 1, 0, 1, 0, 1, 1, 0, 1, 0, 0, 0, 0, 1, 1, 0, 0,\n",
              "       1, 1, 1, 0, 1, 1, 1, 1, 1, 0, 0, 1, 1, 0, 1, 1, 0, 0, 1, 0, 1, 1,\n",
              "       1, 1, 0, 1, 1, 1, 1, 1, 0, 1, 0, 0, 0, 0, 0, 0, 0, 0, 0, 0, 0, 0,\n",
              "       0, 0, 1, 1, 1, 1, 1, 1, 0, 1, 0, 1, 1, 0, 1, 1, 0, 1, 0, 0, 1, 1,\n",
              "       1, 1, 1, 1, 1, 1, 1, 1, 1, 1, 1, 0, 1, 1, 0, 1, 0, 1, 1, 1, 1, 1,\n",
              "       1, 1, 1, 1, 1, 1, 1, 1, 1, 0, 1, 1, 1, 0, 1, 0, 1, 1, 1, 1, 0, 0,\n",
              "       0, 1, 1, 1, 1, 0, 1, 0, 1, 0, 1, 1, 1, 0, 1, 1, 1, 1, 1, 1, 1, 0,\n",
              "       0, 0, 1, 1, 1, 1, 1, 1, 1, 1, 1, 1, 1, 0, 0, 1, 0, 0, 0, 1, 0, 0,\n",
              "       1, 1, 1, 1, 1, 0, 1, 1, 1, 1, 1, 0, 1, 1, 1, 0, 1, 1, 0, 0, 1, 1,\n",
              "       1, 1, 1, 1, 0, 1, 1, 1, 1, 1, 1, 1, 0, 1, 1, 1, 1, 1, 0, 1, 1, 0,\n",
              "       1, 1, 1, 1, 1, 1, 1, 1, 1, 1, 1, 1, 0, 1, 0, 0, 1, 0, 1, 1, 1, 1,\n",
              "       1, 0, 1, 1, 0, 1, 0, 1, 1, 0, 1, 0, 1, 1, 1, 1, 1, 1, 1, 1, 0, 0,\n",
              "       1, 1, 1, 1, 1, 1, 0, 1, 1, 1, 1, 1, 1, 1, 1, 1, 1, 0, 1, 1, 1, 1,\n",
              "       1, 1, 1, 0, 1, 0, 1, 1, 0, 1, 1, 1, 1, 1, 0, 0, 1, 0, 1, 0, 1, 1,\n",
              "       1, 1, 1, 0, 1, 1, 0, 1, 0, 1, 0, 0, 1, 1, 1, 0, 1, 1, 1, 1, 1, 1,\n",
              "       1, 1, 1, 1, 1, 0, 1, 0, 0, 1, 1, 1, 1, 1, 1, 1, 1, 1, 1, 1, 1, 1,\n",
              "       1, 1, 1, 1, 1, 1, 1, 1, 1, 1, 1, 1, 0, 0, 0, 0, 0, 0, 1])"
            ]
          },
          "metadata": {},
          "execution_count": 11
        }
      ]
    },
    {
      "cell_type": "code",
      "metadata": {
        "id": "CSirq1ogexpf",
        "colab": {
          "base_uri": "https://localhost:8080/"
        },
        "outputId": "74e63bc9-ecb5-4c27-9e4f-c69021874b25"
      },
      "source": [
        "breast.target_names"
      ],
      "execution_count": 12,
      "outputs": [
        {
          "output_type": "execute_result",
          "data": {
            "text/plain": [
              "array(['malignant', 'benign'], dtype='<U9')"
            ]
          },
          "metadata": {},
          "execution_count": 12
        }
      ]
    },
    {
      "cell_type": "code",
      "metadata": {
        "id": "Y2EfWdzMe1ml",
        "colab": {
          "base_uri": "https://localhost:8080/"
        },
        "outputId": "567a6d59-a824-4b9c-ffe9-0230d1fa4265"
      },
      "source": [
        "inputs = breast.data\n",
        "inputs.shape"
      ],
      "execution_count": 13,
      "outputs": [
        {
          "output_type": "execute_result",
          "data": {
            "text/plain": [
              "(569, 30)"
            ]
          },
          "metadata": {},
          "execution_count": 13
        }
      ]
    },
    {
      "cell_type": "code",
      "metadata": {
        "id": "EQFcpegTfAVd",
        "colab": {
          "base_uri": "https://localhost:8080/"
        },
        "outputId": "514c984c-1cd6-491a-e967-b36ff80393b9"
      },
      "source": [
        "outputs = breast.target\n",
        "outputs.shape"
      ],
      "execution_count": 14,
      "outputs": [
        {
          "output_type": "execute_result",
          "data": {
            "text/plain": [
              "(569,)"
            ]
          },
          "metadata": {},
          "execution_count": 14
        }
      ]
    },
    {
      "cell_type": "code",
      "metadata": {
        "id": "zXAfgiLCfFLM"
      },
      "source": [
        "X_train, X_test, y_train, y_test = train_test_split(inputs, outputs, test_size = 0.25)"
      ],
      "execution_count": 15,
      "outputs": []
    },
    {
      "cell_type": "code",
      "metadata": {
        "id": "D_QBGhf8fa5W",
        "colab": {
          "base_uri": "https://localhost:8080/"
        },
        "outputId": "45d05b72-b932-46f5-e590-572f290fd3a9"
      },
      "source": [
        "X_train.shape"
      ],
      "execution_count": 16,
      "outputs": [
        {
          "output_type": "execute_result",
          "data": {
            "text/plain": [
              "(426, 30)"
            ]
          },
          "metadata": {},
          "execution_count": 16
        }
      ]
    },
    {
      "cell_type": "code",
      "metadata": {
        "id": "28tDG-Dwfg3C",
        "colab": {
          "base_uri": "https://localhost:8080/"
        },
        "outputId": "4cbedd6c-1102-4f60-a1a9-0cee10c95487"
      },
      "source": [
        "X_test.shape"
      ],
      "execution_count": 17,
      "outputs": [
        {
          "output_type": "execute_result",
          "data": {
            "text/plain": [
              "(143, 30)"
            ]
          },
          "metadata": {},
          "execution_count": 17
        }
      ]
    },
    {
      "cell_type": "markdown",
      "metadata": {
        "id": "72uvlxJrOuWd"
      },
      "source": [
        "## Data transformation\n"
      ]
    },
    {
      "cell_type": "code",
      "metadata": {
        "id": "4CDhI9lYfoSp",
        "colab": {
          "base_uri": "https://localhost:8080/"
        },
        "outputId": "f296c4f3-53c2-4531-b893-e07107337c47"
      },
      "source": [
        "type(X_train)"
      ],
      "execution_count": 18,
      "outputs": [
        {
          "output_type": "execute_result",
          "data": {
            "text/plain": [
              "numpy.ndarray"
            ]
          },
          "metadata": {},
          "execution_count": 18
        }
      ]
    },
    {
      "cell_type": "code",
      "metadata": {
        "id": "j50JzYbvfxOB"
      },
      "source": [
        "X_train = torch.tensor(X_train, dtype=torch.float)\n",
        "y_train = torch.tensor(y_train, dtype=torch.float)"
      ],
      "execution_count": 19,
      "outputs": []
    },
    {
      "cell_type": "code",
      "metadata": {
        "id": "tZpLPL9ZhGVv",
        "colab": {
          "base_uri": "https://localhost:8080/"
        },
        "outputId": "4714c3f4-d107-4d97-d200-5b0cfca0ca1c"
      },
      "source": [
        "type(X_train)"
      ],
      "execution_count": 20,
      "outputs": [
        {
          "output_type": "execute_result",
          "data": {
            "text/plain": [
              "torch.Tensor"
            ]
          },
          "metadata": {},
          "execution_count": 20
        }
      ]
    },
    {
      "cell_type": "code",
      "metadata": {
        "id": "Y6Yio0lMhJHC"
      },
      "source": [
        "dataset = torch.utils.data.TensorDataset(X_train, y_train)"
      ],
      "execution_count": 21,
      "outputs": []
    },
    {
      "cell_type": "code",
      "metadata": {
        "id": "XbHuCVOLhS5u",
        "colab": {
          "base_uri": "https://localhost:8080/"
        },
        "outputId": "2cd61471-a06a-46c0-cdea-eeeb3591c356"
      },
      "source": [
        "type(dataset)"
      ],
      "execution_count": 22,
      "outputs": [
        {
          "output_type": "execute_result",
          "data": {
            "text/plain": [
              "torch.utils.data.dataset.TensorDataset"
            ]
          },
          "metadata": {},
          "execution_count": 22
        }
      ]
    },
    {
      "cell_type": "code",
      "metadata": {
        "id": "YEN5jCO-hZyT"
      },
      "source": [
        "train_loader = torch.utils.data.DataLoader(dataset, batch_size=10)"
      ],
      "execution_count": 23,
      "outputs": []
    },
    {
      "cell_type": "markdown",
      "metadata": {
        "id": "QGDLesyDQpIb"
      },
      "source": [
        "## Neural network structure"
      ]
    },
    {
      "cell_type": "code",
      "metadata": {
        "id": "A4tSYG40ic00",
        "colab": {
          "base_uri": "https://localhost:8080/"
        },
        "outputId": "442c4644-7959-4090-d807-5be4176524b4"
      },
      "source": [
        "(30 + 1) / 2"
      ],
      "execution_count": 24,
      "outputs": [
        {
          "output_type": "execute_result",
          "data": {
            "text/plain": [
              "15.5"
            ]
          },
          "metadata": {},
          "execution_count": 24
        }
      ]
    },
    {
      "cell_type": "code",
      "metadata": {
        "id": "G8a5pCYviAHQ"
      },
      "source": [
        "# 30 -> 16 -> 16 -> 1\n",
        "network = nn.Sequential(nn.Linear(in_features=30, out_features=16),\n",
        "                        nn.Sigmoid(),\n",
        "                        nn.Linear(16, 16),\n",
        "                        nn.Sigmoid(),\n",
        "                        nn.Linear(16, 1),\n",
        "                        nn.Sigmoid())"
      ],
      "execution_count": 25,
      "outputs": []
    },
    {
      "cell_type": "code",
      "metadata": {
        "id": "Z3KO31Cbjrxb",
        "colab": {
          "base_uri": "https://localhost:8080/"
        },
        "outputId": "68fd8888-e4b8-4b83-98b3-dfb38dcbac12"
      },
      "source": [
        "network.parameters"
      ],
      "execution_count": 26,
      "outputs": [
        {
          "output_type": "execute_result",
          "data": {
            "text/plain": [
              "<bound method Module.parameters of Sequential(\n",
              "  (0): Linear(in_features=30, out_features=16, bias=True)\n",
              "  (1): Sigmoid()\n",
              "  (2): Linear(in_features=16, out_features=16, bias=True)\n",
              "  (3): Sigmoid()\n",
              "  (4): Linear(in_features=16, out_features=1, bias=True)\n",
              "  (5): Sigmoid()\n",
              ")>"
            ]
          },
          "metadata": {},
          "execution_count": 26
        }
      ]
    },
    {
      "cell_type": "code",
      "metadata": {
        "id": "Zi67gpD2jw2d"
      },
      "source": [
        "loss_function = nn.BCELoss()"
      ],
      "execution_count": 27,
      "outputs": []
    },
    {
      "cell_type": "code",
      "metadata": {
        "id": "c5DwvzzpkCIS"
      },
      "source": [
        "optimizer = torch.optim.Adam(network.parameters(), lr = 0.001)"
      ],
      "execution_count": 28,
      "outputs": []
    },
    {
      "cell_type": "code",
      "metadata": {
        "id": "Yn2TbtzfkP19",
        "colab": {
          "base_uri": "https://localhost:8080/"
        },
        "outputId": "e00bfab4-9040-4d58-a841-cbf4ae7ff143"
      },
      "source": [
        "epochs = 100\n",
        "for epoch in range(epochs):\n",
        "  running_loss = 0.\n",
        "\n",
        "  for data in train_loader:\n",
        "    inputs, outputs = data\n",
        "    #print(inputs)\n",
        "    #print('-----')\n",
        "    #print(outputs)\n",
        "    optimizer.zero_grad()\n",
        "\n",
        "    predictions = network.forward(inputs) \n",
        "    loss = loss_function(predictions, outputs)\n",
        "    loss.backward()\n",
        "    optimizer.step()\n",
        "\n",
        "    running_loss += loss.item()\n",
        "  print('Epoch: ' + str(epoch + 1) + ' loss: ' + str(running_loss / len(train_loader)))"
      ],
      "execution_count": 29,
      "outputs": [
        {
          "output_type": "stream",
          "name": "stderr",
          "text": [
            "/usr/local/lib/python3.7/dist-packages/torch/nn/modules/loss.py:516: UserWarning: Using a target size (torch.Size([10])) that is different to the input size (torch.Size([10, 1])) is deprecated. Please ensure they have the same size.\n",
            "  return F.binary_cross_entropy(input, target, weight=self.weight, reduction=self.reduction)\n",
            "/usr/local/lib/python3.7/dist-packages/torch/nn/modules/loss.py:516: UserWarning: Using a target size (torch.Size([6])) that is different to the input size (torch.Size([6, 1])) is deprecated. Please ensure they have the same size.\n",
            "  return F.binary_cross_entropy(input, target, weight=self.weight, reduction=self.reduction)\n"
          ]
        },
        {
          "output_type": "stream",
          "name": "stdout",
          "text": [
            "Epoch: 1 loss: 0.6766512768213139\n",
            "Epoch: 2 loss: 0.6611403088236965\n",
            "Epoch: 3 loss: 0.652805611837742\n",
            "Epoch: 4 loss: 0.6447940953942233\n",
            "Epoch: 5 loss: 0.6358079924139866\n",
            "Epoch: 6 loss: 0.6260780269323394\n",
            "Epoch: 7 loss: 0.613966512125592\n",
            "Epoch: 8 loss: 0.6004492196925851\n",
            "Epoch: 9 loss: 0.5836770936500194\n",
            "Epoch: 10 loss: 0.5654084169587423\n",
            "Epoch: 11 loss: 0.545619981926541\n",
            "Epoch: 12 loss: 0.5263085164303003\n",
            "Epoch: 13 loss: 0.5014619286670241\n",
            "Epoch: 14 loss: 0.4759651346262111\n",
            "Epoch: 15 loss: 0.45471994752107664\n",
            "Epoch: 16 loss: 0.43810115581335024\n",
            "Epoch: 17 loss: 0.4109457655008449\n",
            "Epoch: 18 loss: 0.40066572538642\n",
            "Epoch: 19 loss: 0.3819708387519038\n",
            "Epoch: 20 loss: 0.3698005374780921\n",
            "Epoch: 21 loss: 0.36468498651371445\n",
            "Epoch: 22 loss: 0.33984947308551433\n",
            "Epoch: 23 loss: 0.3249154222566028\n",
            "Epoch: 24 loss: 0.3246372650529063\n",
            "Epoch: 25 loss: 0.32529742184073424\n",
            "Epoch: 26 loss: 0.31341771053713424\n",
            "Epoch: 27 loss: 0.29938348503999934\n",
            "Epoch: 28 loss: 0.3027778136175732\n",
            "Epoch: 29 loss: 0.28942638341077537\n",
            "Epoch: 30 loss: 0.2909875096276749\n",
            "Epoch: 31 loss: 0.2781846566602241\n",
            "Epoch: 32 loss: 0.2774968485152999\n",
            "Epoch: 33 loss: 0.27091585931389833\n",
            "Epoch: 34 loss: 0.2776798860624779\n",
            "Epoch: 35 loss: 0.28091842196015426\n",
            "Epoch: 36 loss: 0.2649292084713315\n",
            "Epoch: 37 loss: 0.27309097956086315\n",
            "Epoch: 38 loss: 0.25331695360499756\n",
            "Epoch: 39 loss: 0.25542961840712747\n",
            "Epoch: 40 loss: 0.2633019886737646\n",
            "Epoch: 41 loss: 0.25572097700002583\n",
            "Epoch: 42 loss: 0.2654730882062468\n",
            "Epoch: 43 loss: 0.24954285507285318\n",
            "Epoch: 44 loss: 0.2423170988642892\n",
            "Epoch: 45 loss: 0.24682805843131486\n",
            "Epoch: 46 loss: 0.2500486117462779\n",
            "Epoch: 47 loss: 0.2390188108696494\n",
            "Epoch: 48 loss: 0.24436734339525534\n",
            "Epoch: 49 loss: 0.23593444784366807\n",
            "Epoch: 50 loss: 0.24170683705529503\n",
            "Epoch: 51 loss: 0.23156940616494\n",
            "Epoch: 52 loss: 0.241382444840531\n",
            "Epoch: 53 loss: 0.22839784864769425\n",
            "Epoch: 54 loss: 0.23649015641489693\n",
            "Epoch: 55 loss: 0.22758158625558364\n",
            "Epoch: 56 loss: 0.23581756391497546\n",
            "Epoch: 57 loss: 0.22667242811862812\n",
            "Epoch: 58 loss: 0.2351524893974149\n",
            "Epoch: 59 loss: 0.2257404687792756\n",
            "Epoch: 60 loss: 0.2346940401854903\n",
            "Epoch: 61 loss: 0.2248662367116573\n",
            "Epoch: 62 loss: 0.2342259342414002\n",
            "Epoch: 63 loss: 0.22443926594285077\n",
            "Epoch: 64 loss: 0.2338516661940619\n",
            "Epoch: 65 loss: 0.2253846792980682\n",
            "Epoch: 66 loss: 0.23357884066049442\n",
            "Epoch: 67 loss: 0.22757425063917802\n",
            "Epoch: 68 loss: 0.23254376225346743\n",
            "Epoch: 69 loss: 0.2282164879143238\n",
            "Epoch: 70 loss: 0.24430981962833292\n",
            "Epoch: 71 loss: 0.22986876522732336\n",
            "Epoch: 72 loss: 0.22373111416087593\n",
            "Epoch: 73 loss: 0.23107026820612508\n",
            "Epoch: 74 loss: 0.22529122831169948\n",
            "Epoch: 75 loss: 0.2306200672200946\n",
            "Epoch: 76 loss: 0.22304974149825962\n",
            "Epoch: 77 loss: 0.229258977309909\n",
            "Epoch: 78 loss: 0.2210745605271916\n",
            "Epoch: 79 loss: 0.23416748963469683\n",
            "Epoch: 80 loss: 0.22585542577990267\n",
            "Epoch: 81 loss: 0.21831708028912544\n",
            "Epoch: 82 loss: 0.23725802312756694\n",
            "Epoch: 83 loss: 0.22619413740413133\n",
            "Epoch: 84 loss: 0.21763286990828293\n",
            "Epoch: 85 loss: 0.23588188564361529\n",
            "Epoch: 86 loss: 0.22558537645395413\n",
            "Epoch: 87 loss: 0.21687283592168674\n",
            "Epoch: 88 loss: 0.23427365954185642\n",
            "Epoch: 89 loss: 0.2248755569548108\n",
            "Epoch: 90 loss: 0.21572599048877872\n",
            "Epoch: 91 loss: 0.23245661047308944\n",
            "Epoch: 92 loss: 0.2248169434105241\n",
            "Epoch: 93 loss: 0.21457045282735382\n",
            "Epoch: 94 loss: 0.2321454554276411\n",
            "Epoch: 95 loss: 0.2232159949665846\n",
            "Epoch: 96 loss: 0.21271779448833578\n",
            "Epoch: 97 loss: 0.23589157824252927\n",
            "Epoch: 98 loss: 0.2537223223683446\n",
            "Epoch: 99 loss: 0.22342266514897346\n",
            "Epoch: 100 loss: 0.26524385965840763\n"
          ]
        }
      ]
    },
    {
      "cell_type": "markdown",
      "metadata": {
        "id": "AyTjLzELSdQF"
      },
      "source": [
        "## Evaluate"
      ]
    },
    {
      "cell_type": "code",
      "metadata": {
        "id": "lznvtd0vmyFu",
        "colab": {
          "base_uri": "https://localhost:8080/"
        },
        "outputId": "9ecb06d8-5d9b-4e5b-e616-fa16b41e2a53"
      },
      "source": [
        "network.eval()"
      ],
      "execution_count": 30,
      "outputs": [
        {
          "output_type": "execute_result",
          "data": {
            "text/plain": [
              "Sequential(\n",
              "  (0): Linear(in_features=30, out_features=16, bias=True)\n",
              "  (1): Sigmoid()\n",
              "  (2): Linear(in_features=16, out_features=16, bias=True)\n",
              "  (3): Sigmoid()\n",
              "  (4): Linear(in_features=16, out_features=1, bias=True)\n",
              "  (5): Sigmoid()\n",
              ")"
            ]
          },
          "metadata": {},
          "execution_count": 30
        }
      ]
    },
    {
      "cell_type": "code",
      "metadata": {
        "id": "-rsUsgYhm9AR",
        "colab": {
          "base_uri": "https://localhost:8080/"
        },
        "outputId": "6d4d7ec4-24f2-4222-d575-4cf2e8067343"
      },
      "source": [
        "X_test.shape"
      ],
      "execution_count": 31,
      "outputs": [
        {
          "output_type": "execute_result",
          "data": {
            "text/plain": [
              "(143, 30)"
            ]
          },
          "metadata": {},
          "execution_count": 31
        }
      ]
    },
    {
      "cell_type": "code",
      "metadata": {
        "id": "jbfwUSOCnAqY",
        "colab": {
          "base_uri": "https://localhost:8080/"
        },
        "outputId": "49cde99d-89c7-4197-dee2-0d92787983a3"
      },
      "source": [
        "type(X_test)"
      ],
      "execution_count": 32,
      "outputs": [
        {
          "output_type": "execute_result",
          "data": {
            "text/plain": [
              "numpy.ndarray"
            ]
          },
          "metadata": {},
          "execution_count": 32
        }
      ]
    },
    {
      "cell_type": "code",
      "metadata": {
        "id": "4FX-fotsnEsW",
        "colab": {
          "base_uri": "https://localhost:8080/"
        },
        "outputId": "57ca108c-dc9a-4b71-c0c4-eb9f3ecfadd2"
      },
      "source": [
        "X_test = torch.tensor(X_test, dtype=torch.float)\n",
        "type(X_test)"
      ],
      "execution_count": 33,
      "outputs": [
        {
          "output_type": "execute_result",
          "data": {
            "text/plain": [
              "torch.Tensor"
            ]
          },
          "metadata": {},
          "execution_count": 33
        }
      ]
    },
    {
      "cell_type": "code",
      "metadata": {
        "id": "EEw01uzUnMYs",
        "colab": {
          "base_uri": "https://localhost:8080/"
        },
        "outputId": "c9e25310-1753-4730-8cf2-585972bd408b"
      },
      "source": [
        "predictions = network.forward(X_test)\n",
        "predictions"
      ],
      "execution_count": 34,
      "outputs": [
        {
          "output_type": "execute_result",
          "data": {
            "text/plain": [
              "tensor([[0.1572],\n",
              "        [0.9327],\n",
              "        [0.0086],\n",
              "        [0.0084],\n",
              "        [0.0084],\n",
              "        [0.9327],\n",
              "        [0.0084],\n",
              "        [0.9327],\n",
              "        [0.9134],\n",
              "        [0.0957],\n",
              "        [0.8170],\n",
              "        [0.9327],\n",
              "        [0.9327],\n",
              "        [0.9326],\n",
              "        [0.0084],\n",
              "        [0.8121],\n",
              "        [0.9327],\n",
              "        [0.5535],\n",
              "        [0.1830],\n",
              "        [0.1811],\n",
              "        [0.9327],\n",
              "        [0.9327],\n",
              "        [0.9327],\n",
              "        [0.9327],\n",
              "        [0.9327],\n",
              "        [0.9327],\n",
              "        [0.9327],\n",
              "        [0.9327],\n",
              "        [0.0086],\n",
              "        [0.9327],\n",
              "        [0.9327],\n",
              "        [0.9327],\n",
              "        [0.9323],\n",
              "        [0.2004],\n",
              "        [0.9327],\n",
              "        [0.9326],\n",
              "        [0.0162],\n",
              "        [0.0084],\n",
              "        [0.9327],\n",
              "        [0.9327],\n",
              "        [0.9327],\n",
              "        [0.9327],\n",
              "        [0.9327],\n",
              "        [0.9327],\n",
              "        [0.9327],\n",
              "        [0.9327],\n",
              "        [0.9312],\n",
              "        [0.2554],\n",
              "        [0.0084],\n",
              "        [0.9327],\n",
              "        [0.0084],\n",
              "        [0.1811],\n",
              "        [0.0084],\n",
              "        [0.1811],\n",
              "        [0.7369],\n",
              "        [0.9327],\n",
              "        [0.1809],\n",
              "        [0.9327],\n",
              "        [0.9327],\n",
              "        [0.9324],\n",
              "        [0.9055],\n",
              "        [0.9327],\n",
              "        [0.0084],\n",
              "        [0.9051],\n",
              "        [0.9326],\n",
              "        [0.9326],\n",
              "        [0.0084],\n",
              "        [0.9327],\n",
              "        [0.9327],\n",
              "        [0.9327],\n",
              "        [0.0084],\n",
              "        [0.9327],\n",
              "        [0.9327],\n",
              "        [0.4032],\n",
              "        [0.9327],\n",
              "        [0.1814],\n",
              "        [0.9327],\n",
              "        [0.0084],\n",
              "        [0.9327],\n",
              "        [0.9327],\n",
              "        [0.9327],\n",
              "        [0.9327],\n",
              "        [0.9327],\n",
              "        [0.9327],\n",
              "        [0.9291],\n",
              "        [0.9323],\n",
              "        [0.9327],\n",
              "        [0.6972],\n",
              "        [0.0084],\n",
              "        [0.9327],\n",
              "        [0.9324],\n",
              "        [0.8760],\n",
              "        [0.9325],\n",
              "        [0.0087],\n",
              "        [0.0084],\n",
              "        [0.9327],\n",
              "        [0.9326],\n",
              "        [0.1820],\n",
              "        [0.9304],\n",
              "        [0.0084],\n",
              "        [0.9327],\n",
              "        [0.9327],\n",
              "        [0.1883],\n",
              "        [0.8814],\n",
              "        [0.9327],\n",
              "        [0.0084],\n",
              "        [0.9327],\n",
              "        [0.0084],\n",
              "        [0.9327],\n",
              "        [0.0084],\n",
              "        [0.9327],\n",
              "        [0.9327],\n",
              "        [0.9326],\n",
              "        [0.0089],\n",
              "        [0.9243],\n",
              "        [0.9327],\n",
              "        [0.9327],\n",
              "        [0.1475],\n",
              "        [0.0093],\n",
              "        [0.9325],\n",
              "        [0.9327],\n",
              "        [0.9327],\n",
              "        [0.9327],\n",
              "        [0.0084],\n",
              "        [0.2057],\n",
              "        [0.9327],\n",
              "        [0.0084],\n",
              "        [0.1812],\n",
              "        [0.1917],\n",
              "        [0.9327],\n",
              "        [0.0084],\n",
              "        [0.9327],\n",
              "        [0.9327],\n",
              "        [0.9322],\n",
              "        [0.8699],\n",
              "        [0.8048],\n",
              "        [0.6608],\n",
              "        [0.9327],\n",
              "        [0.9327],\n",
              "        [0.9327],\n",
              "        [0.9247],\n",
              "        [0.0301],\n",
              "        [0.9218]], grad_fn=<SigmoidBackward>)"
            ]
          },
          "metadata": {},
          "execution_count": 34
        }
      ]
    },
    {
      "cell_type": "code",
      "metadata": {
        "id": "2h1ZtXPnnpiy",
        "colab": {
          "base_uri": "https://localhost:8080/"
        },
        "outputId": "bd3ff14d-462e-4e41-f508-fd4c355785b8"
      },
      "source": [
        "predictions = np.array(predictions > 0.5)\n",
        "predictions"
      ],
      "execution_count": 35,
      "outputs": [
        {
          "output_type": "execute_result",
          "data": {
            "text/plain": [
              "array([[False],\n",
              "       [ True],\n",
              "       [False],\n",
              "       [False],\n",
              "       [False],\n",
              "       [ True],\n",
              "       [False],\n",
              "       [ True],\n",
              "       [ True],\n",
              "       [False],\n",
              "       [ True],\n",
              "       [ True],\n",
              "       [ True],\n",
              "       [ True],\n",
              "       [False],\n",
              "       [ True],\n",
              "       [ True],\n",
              "       [ True],\n",
              "       [False],\n",
              "       [False],\n",
              "       [ True],\n",
              "       [ True],\n",
              "       [ True],\n",
              "       [ True],\n",
              "       [ True],\n",
              "       [ True],\n",
              "       [ True],\n",
              "       [ True],\n",
              "       [False],\n",
              "       [ True],\n",
              "       [ True],\n",
              "       [ True],\n",
              "       [ True],\n",
              "       [False],\n",
              "       [ True],\n",
              "       [ True],\n",
              "       [False],\n",
              "       [False],\n",
              "       [ True],\n",
              "       [ True],\n",
              "       [ True],\n",
              "       [ True],\n",
              "       [ True],\n",
              "       [ True],\n",
              "       [ True],\n",
              "       [ True],\n",
              "       [ True],\n",
              "       [False],\n",
              "       [False],\n",
              "       [ True],\n",
              "       [False],\n",
              "       [False],\n",
              "       [False],\n",
              "       [False],\n",
              "       [ True],\n",
              "       [ True],\n",
              "       [False],\n",
              "       [ True],\n",
              "       [ True],\n",
              "       [ True],\n",
              "       [ True],\n",
              "       [ True],\n",
              "       [False],\n",
              "       [ True],\n",
              "       [ True],\n",
              "       [ True],\n",
              "       [False],\n",
              "       [ True],\n",
              "       [ True],\n",
              "       [ True],\n",
              "       [False],\n",
              "       [ True],\n",
              "       [ True],\n",
              "       [False],\n",
              "       [ True],\n",
              "       [False],\n",
              "       [ True],\n",
              "       [False],\n",
              "       [ True],\n",
              "       [ True],\n",
              "       [ True],\n",
              "       [ True],\n",
              "       [ True],\n",
              "       [ True],\n",
              "       [ True],\n",
              "       [ True],\n",
              "       [ True],\n",
              "       [ True],\n",
              "       [False],\n",
              "       [ True],\n",
              "       [ True],\n",
              "       [ True],\n",
              "       [ True],\n",
              "       [False],\n",
              "       [False],\n",
              "       [ True],\n",
              "       [ True],\n",
              "       [False],\n",
              "       [ True],\n",
              "       [False],\n",
              "       [ True],\n",
              "       [ True],\n",
              "       [False],\n",
              "       [ True],\n",
              "       [ True],\n",
              "       [False],\n",
              "       [ True],\n",
              "       [False],\n",
              "       [ True],\n",
              "       [False],\n",
              "       [ True],\n",
              "       [ True],\n",
              "       [ True],\n",
              "       [False],\n",
              "       [ True],\n",
              "       [ True],\n",
              "       [ True],\n",
              "       [False],\n",
              "       [False],\n",
              "       [ True],\n",
              "       [ True],\n",
              "       [ True],\n",
              "       [ True],\n",
              "       [False],\n",
              "       [False],\n",
              "       [ True],\n",
              "       [False],\n",
              "       [False],\n",
              "       [False],\n",
              "       [ True],\n",
              "       [False],\n",
              "       [ True],\n",
              "       [ True],\n",
              "       [ True],\n",
              "       [ True],\n",
              "       [ True],\n",
              "       [ True],\n",
              "       [ True],\n",
              "       [ True],\n",
              "       [ True],\n",
              "       [ True],\n",
              "       [False],\n",
              "       [ True]])"
            ]
          },
          "metadata": {},
          "execution_count": 35
        }
      ]
    },
    {
      "cell_type": "code",
      "metadata": {
        "id": "CENEXHlIoKni",
        "colab": {
          "base_uri": "https://localhost:8080/"
        },
        "outputId": "d01c3d2f-9dd5-4728-b1cd-eb3811c279d3"
      },
      "source": [
        "y_test"
      ],
      "execution_count": 36,
      "outputs": [
        {
          "output_type": "execute_result",
          "data": {
            "text/plain": [
              "array([0, 1, 0, 0, 0, 1, 0, 1, 0, 0, 1, 1, 1, 1, 0, 1, 1, 1, 1, 0, 1, 1,\n",
              "       1, 1, 1, 1, 1, 1, 0, 1, 1, 1, 0, 1, 1, 1, 0, 0, 1, 1, 1, 1, 1, 1,\n",
              "       1, 1, 1, 1, 0, 1, 0, 0, 0, 0, 0, 1, 0, 1, 1, 1, 1, 1, 0, 0, 1, 1,\n",
              "       0, 1, 1, 1, 0, 1, 1, 1, 1, 1, 1, 0, 1, 1, 1, 1, 1, 1, 1, 0, 1, 0,\n",
              "       0, 1, 1, 1, 1, 0, 0, 1, 1, 0, 1, 0, 1, 1, 0, 0, 1, 0, 1, 0, 1, 0,\n",
              "       1, 1, 1, 0, 1, 1, 1, 0, 0, 1, 1, 1, 1, 0, 1, 1, 0, 0, 0, 1, 0, 1,\n",
              "       1, 1, 0, 1, 1, 1, 1, 1, 1, 0, 1])"
            ]
          },
          "metadata": {},
          "execution_count": 36
        }
      ]
    },
    {
      "cell_type": "code",
      "metadata": {
        "id": "rfjEpilWoSt8",
        "colab": {
          "base_uri": "https://localhost:8080/"
        },
        "outputId": "7d1dce23-6b44-4890-b49c-2c21cba0db54"
      },
      "source": [
        "accuracy_score(y_test, predictions)"
      ],
      "execution_count": 37,
      "outputs": [
        {
          "output_type": "execute_result",
          "data": {
            "text/plain": [
              "0.9020979020979021"
            ]
          },
          "metadata": {},
          "execution_count": 37
        }
      ]
    },
    {
      "cell_type": "code",
      "metadata": {
        "id": "9HLl2Iy0oZ_p",
        "colab": {
          "base_uri": "https://localhost:8080/"
        },
        "outputId": "27adb515-41b4-414c-d95f-35a92972fa0b"
      },
      "source": [
        "cm = confusion_matrix(y_test, predictions)\n",
        "cm"
      ],
      "execution_count": 38,
      "outputs": [
        {
          "output_type": "execute_result",
          "data": {
            "text/plain": [
              "array([[39,  8],\n",
              "       [ 6, 90]])"
            ]
          },
          "metadata": {},
          "execution_count": 38
        }
      ]
    },
    {
      "cell_type": "code",
      "metadata": {
        "id": "VMfT3Ll9ofyi",
        "colab": {
          "base_uri": "https://localhost:8080/",
          "height": 286
        },
        "outputId": "c2e99a9e-f637-44a0-b7b7-26f3fef58ebc"
      },
      "source": [
        "import seaborn as sns\n",
        "sns.heatmap(cm, annot=True)"
      ],
      "execution_count": 39,
      "outputs": [
        {
          "output_type": "execute_result",
          "data": {
            "text/plain": [
              "<matplotlib.axes._subplots.AxesSubplot at 0x7f8acd5d2e10>"
            ]
          },
          "metadata": {},
          "execution_count": 39
        },
        {
          "output_type": "display_data",
          "data": {
            "text/plain": [
              "<Figure size 432x288 with 2 Axes>"
            ],
            "image/png": "[encoded data removed]"
          },
          "metadata": {
            "needs_background": "light"
          }
        }
      ]
    },
    {
      "cell_type": "markdown",
      "source": [
        "**Conclusion: we have 90% accuracy score and can see that 39 were classified correct as benign and 8 wrong as malignant, though it was benign type. Looking at picture down we can see that 90 were classified correctly as malignant and 6 were classified wrong as benign, though it was a malignant type. In general we can see that most breast cancer types were classified correctly. **"
      ],
      "metadata": {
        "id": "7At55zF3ks5z"
      }
    }
  ]
}